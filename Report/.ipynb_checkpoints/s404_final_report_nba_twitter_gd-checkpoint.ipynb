{
 "cells": [
  {
   "cell_type": "markdown",
   "metadata": {},
   "source": [
    "<h1>Social Media Power - Strategic Targeting for NBA Player Sponsorship</h1>\n",
    "<h2>Guy Dotan - 03/20/2019</h2>\n",
    "<h3>Stats 404 - Final Project</h3>"
   ]
  },
  {
   "cell_type": "markdown",
   "metadata": {},
   "source": [
    "# Setting the Stage\n",
    "\n",
    "Sponsorships are as deeply integrated into the fabric of the sports landscape as the very players and competition itself. Every year around the world, billions of dollars are being invested into professional athletes for brand promotion. Sports stars are some of the strongest marketing influencers of any celebrity, but over the past few years trends have shifted dramatically in this industry. All of the world’s biggest sporting competitions (NFL, NBA, Premier League, etc.) are reporting declining numbers of traditional TV viewers. That said, the sports sponsorship market remains as strong as ever due to the explosion in social media engagement. \n",
    "\n",
    "With the focus of sports branding shifting toward social media, marketers need to focus their attention on these platforms. Of all the major sports leagues in America, the NBA is growing the fastest and is the most progressive at integrating and promoting social media. As shown below the top three yearly endorsement contracts in the NBA are valued at over \\$35 million (per [Kaggle's](https://kaggle.com/noahgift/social-power-nba) social power dataset]). In addition to the contractional endorsements, NBA stars are able to generate brand exposure organically through social media. Using proprietary computer vision technology [GumGum Sports](https://www.gumgum.com/sports) is able to track brand exposures across social media and attribute a corresponding media value. So far in the 2018-19 NBA season, LeBron James leads all players by generating almost $5.0 million of organic sponsorship content through Twitter, Instagram, and Facebook.\n",
    "\n",
    "The relationship between the NBA and Twitter continues to grow as does the value brought in by that platform.  With all of this data surrounding the power in valuing the NBA and social media, an important question emerges. How should a brand/agency strategically determine the best players to target for sponsorships?"
   ]
  },
  {
   "cell_type": "markdown",
   "metadata": {},
   "source": [
    "![](sponsorship_landscape.png)"
   ]
  },
  {
   "cell_type": "markdown",
   "metadata": {},
   "source": [
    "# The Data"
   ]
  },
  {
   "cell_type": "markdown",
   "metadata": {},
   "source": [
    "In order to build a model that can identify NBA players with high social media value potential I pulled a dataset from Kaggle regarding the 2016-17 NBA season. The data includes a variety of on-the-court basketball statistics along with some social media metrics. Included were the following variables:"
   ]
  },
  {
   "cell_type": "code",
   "execution_count": 165,
   "metadata": {},
   "outputs": [],
   "source": [
    "import pandas as pd\n",
    "import numpy as np\n",
    "import random\n",
    "from sklearn.model_selection import train_test_split\n",
    "from sklearn.ensemble import RandomForestClassifier\n",
    "import matplotlib.pyplot as plt\n",
    "from sklearn.metrics import accuracy_score, confusion_matrix\n",
    "\n",
    "PATH = ('https://s3-us-west-1.amazonaws.com/uclastats404-project/'\n",
    "            'nba_2017_players_with_salary_wiki_twitter.csv')\n",
    "DF = pd.read_csv(PATH)"
   ]
  },
  {
   "cell_type": "markdown",
   "metadata": {},
   "source": [
    "The relevant variables in our dataset are grouped into the following categories:\n",
    "\n",
    "Potential Input Variables:\n",
    "* 26 basic statistics (PPG, 3PM, FG%, etc.)\n",
    "* 6 advanced statistics (ORPM, DRPM, PIE, etc.)\n",
    "* 6 other metrics (Age, Position, Wikipedia Page Views, etc.)\n",
    "                   \n",
    "Potential Output Variables:\n",
    "* Twitter Retweet Count\n",
    "* Twitter Favorite Count\n",
    "\n",
    "Before we begin to handle any missing values and potential issues with the dataset the goal is to determine on a high-level how we want to structure this model. For the target output variable we determined that **Twitter retweets** was the better metric to reflect social media influence. Retweets show a much more active engagement with media content than favoriting does and therefore would generate more brand value. In addition retweeting would spread that content to that user's network of followers which increases the original exposure even further.\n",
    "\n",
    "As for the input variables, the goal of this exercise would be to develop a model that could use widely available data (basketball stats) to predict a more difficult to aquire and valuable metric as social media engagement. Therefore, we will focus our attention on the numerical basketball and team statistics. Right off the bat this eliminates position, player name, team name, and wikipedia page views."
   ]
  },
  {
   "cell_type": "markdown",
   "metadata": {},
   "source": [
    "# Data Processing\n",
    "\n",
    "## Null values\n",
    "First step toward handling our data was to resolve issues with null values. As shown below, only four columns had any null values. In cases where 3PT% and FT% were null, this was due to the player having taken no FT or 3PT attempts. As a result, we set these values equal to 0. In cases where Twitter Retweet and Favorite Count was null, we unfortunately had to remove those players as we needed a value since it was our output metric."
   ]
  },
  {
   "cell_type": "code",
   "execution_count": 151,
   "metadata": {},
   "outputs": [
    {
     "name": "stdout",
     "output_type": "stream",
     "text": [
      "3P%                       7\n",
      "FT%                       2\n",
      "TWITTER_FAVORITE_COUNT    3\n",
      "TWITTER_RETWEET_COUNT     3\n",
      "dtype: int64\n"
     ]
    },
    {
     "data": {
      "text/html": [
       "<div>\n",
       "<style scoped>\n",
       "    .dataframe tbody tr th:only-of-type {\n",
       "        vertical-align: middle;\n",
       "    }\n",
       "\n",
       "    .dataframe tbody tr th {\n",
       "        vertical-align: top;\n",
       "    }\n",
       "\n",
       "    .dataframe thead th {\n",
       "        text-align: right;\n",
       "    }\n",
       "</style>\n",
       "<table border=\"1\" class=\"dataframe\">\n",
       "  <thead>\n",
       "    <tr style=\"text-align: right;\">\n",
       "      <th></th>\n",
       "      <th>PLAYER</th>\n",
       "      <th>3P</th>\n",
       "      <th>3PA</th>\n",
       "      <th>3P%</th>\n",
       "      <th>FT</th>\n",
       "      <th>FTA</th>\n",
       "      <th>FT%</th>\n",
       "      <th>TWITTER_FAVORITE_COUNT</th>\n",
       "      <th>TWITTER_RETWEET_COUNT</th>\n",
       "    </tr>\n",
       "  </thead>\n",
       "  <tbody>\n",
       "    <tr>\n",
       "      <th>128</th>\n",
       "      <td>Tyson Chandler</td>\n",
       "      <td>0.0</td>\n",
       "      <td>0.0</td>\n",
       "      <td>NaN</td>\n",
       "      <td>1.9</td>\n",
       "      <td>2.6</td>\n",
       "      <td>0.734</td>\n",
       "      <td>29.0</td>\n",
       "      <td>9.0</td>\n",
       "    </tr>\n",
       "    <tr>\n",
       "      <th>146</th>\n",
       "      <td>David Lee</td>\n",
       "      <td>0.0</td>\n",
       "      <td>0.0</td>\n",
       "      <td>NaN</td>\n",
       "      <td>1.0</td>\n",
       "      <td>1.4</td>\n",
       "      <td>0.708</td>\n",
       "      <td>56.5</td>\n",
       "      <td>35.0</td>\n",
       "    </tr>\n",
       "    <tr>\n",
       "      <th>175</th>\n",
       "      <td>Ian Mahinmi</td>\n",
       "      <td>0.0</td>\n",
       "      <td>0.0</td>\n",
       "      <td>NaN</td>\n",
       "      <td>1.4</td>\n",
       "      <td>2.4</td>\n",
       "      <td>0.573</td>\n",
       "      <td>10.0</td>\n",
       "      <td>5.0</td>\n",
       "    </tr>\n",
       "    <tr>\n",
       "      <th>204</th>\n",
       "      <td>Anthony Brown</td>\n",
       "      <td>0.6</td>\n",
       "      <td>2.5</td>\n",
       "      <td>0.259</td>\n",
       "      <td>0.0</td>\n",
       "      <td>0.0</td>\n",
       "      <td>NaN</td>\n",
       "      <td>3.0</td>\n",
       "      <td>3.0</td>\n",
       "    </tr>\n",
       "    <tr>\n",
       "      <th>213</th>\n",
       "      <td>Dragan Bender</td>\n",
       "      <td>0.7</td>\n",
       "      <td>2.3</td>\n",
       "      <td>0.277</td>\n",
       "      <td>0.1</td>\n",
       "      <td>0.3</td>\n",
       "      <td>0.364</td>\n",
       "      <td>NaN</td>\n",
       "      <td>NaN</td>\n",
       "    </tr>\n",
       "    <tr>\n",
       "      <th>222</th>\n",
       "      <td>Omer Asik</td>\n",
       "      <td>0.0</td>\n",
       "      <td>0.0</td>\n",
       "      <td>NaN</td>\n",
       "      <td>0.7</td>\n",
       "      <td>1.3</td>\n",
       "      <td>0.590</td>\n",
       "      <td>NaN</td>\n",
       "      <td>NaN</td>\n",
       "    </tr>\n",
       "    <tr>\n",
       "      <th>226</th>\n",
       "      <td>Miles Plumlee</td>\n",
       "      <td>0.0</td>\n",
       "      <td>0.0</td>\n",
       "      <td>NaN</td>\n",
       "      <td>0.6</td>\n",
       "      <td>0.9</td>\n",
       "      <td>0.641</td>\n",
       "      <td>11.0</td>\n",
       "      <td>3.0</td>\n",
       "    </tr>\n",
       "    <tr>\n",
       "      <th>230</th>\n",
       "      <td>Rakeem Christmas</td>\n",
       "      <td>0.0</td>\n",
       "      <td>0.0</td>\n",
       "      <td>NaN</td>\n",
       "      <td>0.7</td>\n",
       "      <td>1.0</td>\n",
       "      <td>0.724</td>\n",
       "      <td>13.0</td>\n",
       "      <td>3.0</td>\n",
       "    </tr>\n",
       "    <tr>\n",
       "      <th>233</th>\n",
       "      <td>Cole Aldrich</td>\n",
       "      <td>0.0</td>\n",
       "      <td>0.0</td>\n",
       "      <td>NaN</td>\n",
       "      <td>0.2</td>\n",
       "      <td>0.4</td>\n",
       "      <td>0.682</td>\n",
       "      <td>22.0</td>\n",
       "      <td>9.0</td>\n",
       "    </tr>\n",
       "    <tr>\n",
       "      <th>235</th>\n",
       "      <td>Bruno Caboclo</td>\n",
       "      <td>0.2</td>\n",
       "      <td>0.7</td>\n",
       "      <td>0.333</td>\n",
       "      <td>0.0</td>\n",
       "      <td>0.0</td>\n",
       "      <td>NaN</td>\n",
       "      <td>11.0</td>\n",
       "      <td>8.0</td>\n",
       "    </tr>\n",
       "    <tr>\n",
       "      <th>238</th>\n",
       "      <td>Alonzo Gee</td>\n",
       "      <td>0.0</td>\n",
       "      <td>0.2</td>\n",
       "      <td>0.000</td>\n",
       "      <td>0.4</td>\n",
       "      <td>0.7</td>\n",
       "      <td>0.556</td>\n",
       "      <td>NaN</td>\n",
       "      <td>NaN</td>\n",
       "    </tr>\n",
       "  </tbody>\n",
       "</table>\n",
       "</div>"
      ],
      "text/plain": [
       "               PLAYER   3P  3PA    3P%   FT  FTA    FT%  \\\n",
       "128    Tyson Chandler  0.0  0.0    NaN  1.9  2.6  0.734   \n",
       "146         David Lee  0.0  0.0    NaN  1.0  1.4  0.708   \n",
       "175       Ian Mahinmi  0.0  0.0    NaN  1.4  2.4  0.573   \n",
       "204     Anthony Brown  0.6  2.5  0.259  0.0  0.0    NaN   \n",
       "213     Dragan Bender  0.7  2.3  0.277  0.1  0.3  0.364   \n",
       "222         Omer Asik  0.0  0.0    NaN  0.7  1.3  0.590   \n",
       "226     Miles Plumlee  0.0  0.0    NaN  0.6  0.9  0.641   \n",
       "230  Rakeem Christmas  0.0  0.0    NaN  0.7  1.0  0.724   \n",
       "233      Cole Aldrich  0.0  0.0    NaN  0.2  0.4  0.682   \n",
       "235     Bruno Caboclo  0.2  0.7  0.333  0.0  0.0    NaN   \n",
       "238        Alonzo Gee  0.0  0.2  0.000  0.4  0.7  0.556   \n",
       "\n",
       "     TWITTER_FAVORITE_COUNT  TWITTER_RETWEET_COUNT  \n",
       "128                    29.0                    9.0  \n",
       "146                    56.5                   35.0  \n",
       "175                    10.0                    5.0  \n",
       "204                     3.0                    3.0  \n",
       "213                     NaN                    NaN  \n",
       "222                     NaN                    NaN  \n",
       "226                    11.0                    3.0  \n",
       "230                    13.0                    3.0  \n",
       "233                    22.0                    9.0  \n",
       "235                    11.0                    8.0  \n",
       "238                     NaN                    NaN  "
      ]
     },
     "metadata": {},
     "output_type": "display_data"
    }
   ],
   "source": [
    "null_columns=DF.columns[DF.isnull().any()]\n",
    "print(DF[null_columns].isnull().sum())\n",
    "\n",
    "df_subset = DF[[\"PLAYER\",\"3P\",\"3PA\",\"3P%\",\"FT\",\"FTA\",\"FT%\",\n",
    "                \"TWITTER_FAVORITE_COUNT\",\"TWITTER_RETWEET_COUNT\"]]\n",
    "display(df_subset[DF.isnull().any(axis=1)])\n",
    "\n",
    "nba = DF[np.isfinite(DF['TWITTER_RETWEET_COUNT'])]"
   ]
  },
  {
   "cell_type": "markdown",
   "metadata": {},
   "source": [
    "## Binning retweets\n",
    "\n",
    "The second step needed in our data processing was to bin our output variable into larger buckets. For the purposes of our model it is not necessary to predict exactly how many retweets a player would have. Instead we just need to know the general range. "
   ]
  },
  {
   "cell_type": "code",
   "execution_count": 185,
   "metadata": {},
   "outputs": [
    {
     "data": {
      "text/plain": [
       "10-50     95\n",
       "<10       82\n",
       "50-150    34\n",
       "150+      25\n",
       "Name: TWEET_CAT, dtype: int64"
      ]
     },
     "execution_count": 185,
     "metadata": {},
     "output_type": "execute_result"
    }
   ],
   "source": [
    "def bin_retweet_count(retweets: float) -> str:\n",
    "    if retweets < 10:\n",
    "        retweet_cat_group = \"<10\"\n",
    "    elif (retweets >= 10) & (retweets < 50):\n",
    "        retweet_cat_group = \"10-50\"\n",
    "    elif (retweets >= 50) & (retweets < 150):\n",
    "        retweet_cat_group = \"50-150\"\n",
    "    else:\n",
    "        retweet_cat_group = \"150+\"\n",
    "    return retweet_cat_group\n",
    "\n",
    "# prevent pandas warning message for SettingWithCopyWarning\n",
    "# taken from https://stackoverflow.com/questions/20625582/\n",
    "    # how-to-deal-with-settingwithcopywarning-in-pandas\n",
    "pd.options.mode.chained_assignment = None\n",
    "nba['TWEET_CAT'] = nba['TWITTER_RETWEET_COUNT'].apply(lambda\n",
    "                                                      x: bin_retweet_count(x))\n",
    "nba['TWEET_CAT'].value_counts()"
   ]
  },
  {
   "cell_type": "markdown",
   "metadata": {},
   "source": [
    "# Modeling Approach\n",
    "\n",
    "Before we begin to model our dataset, there was something to note about our input variables. One notable intricacy about the dataset is many of the advanced basketball statistics are a combination of the basic statistics. As a result there would be much covariance between these features. As a result we decided to narrow the feature set to just seven key metrics. \n",
    "\n",
    "With the features determined, we decided to utilize the random forest modeling technique to predict which players fall into which retweet count bucket. After splitting the data into a 75:25 train:test set we ran a random forest with up to 2500 trees, using a minimum leaf sample of 5, and balanced weight sampling.\n",
    "\n",
    "As shown below we saw that the optimal OOB error occured at 1500 trees. In addition our feature importance plot showcased PIE (Player Inpact Estimate) and Salary (millions) as the most prominent features."
   ]
  },
  {
   "cell_type": "code",
   "execution_count": 179,
   "metadata": {},
   "outputs": [
    {
     "data": {
      "image/png": "[encoded data removed]",
      "text/plain": [
       "<Figure size 432x288 with 1 Axes>"
      ]
     },
     "metadata": {
      "needs_background": "light"
     },
     "output_type": "display_data"
    }
   ],
   "source": [
    "df_train, df_valid = train_test_split(nba,\n",
    "                                      test_size=0.25,\n",
    "                                      random_state=2019,\n",
    "                                      stratify=nba['TWEET_CAT'])\n",
    "\n",
    "y = df_train['TWEET_CAT']\n",
    "X = df_train[['AGE','WINS_RPM','SALARY_MILLIONS','W', 'ORPM', 'DRPM','PIE']]\n",
    "\n",
    "### --- Step 1: Specify different number of trees in forest, to determine\n",
    "###             how many to use based on leveling-off of OOB error:\n",
    "n_trees = [50, 100, 250, 500, 1000, 1500, 2500]\n",
    "\n",
    "### --- Step 2: Create dictionary to save-off each estimated RF model:\n",
    "rf_dict = dict.fromkeys(n_trees)\n",
    "\n",
    "for num in n_trees:    \n",
    "    ### --- Step 3: Specify RF model to estimate:\n",
    "    rf = RandomForestClassifier(n_estimators=num,\n",
    "                                min_samples_leaf=5,\n",
    "                                oob_score=True,\n",
    "                                random_state=2019,\n",
    "                                class_weight='balanced',\n",
    "                                verbose=0)\n",
    "    \n",
    "    ### --- Step 4: Estimate RF model and save estimated model:\n",
    "    rf.fit(X, y)\n",
    "    rf_dict[num] = rf\n",
    "\n",
    "# Compute OOB error per\n",
    "# https://scikit-learn.org/stable/auto_examples/ensemble/plot_ensemble_oob.html\n",
    "oob_error_list = [None] * len(n_trees)\n",
    "\n",
    "# Find OOB error for each forest size:\n",
    "for i in range(len(n_trees)):\n",
    "    oob_error_list[i] = 1 - rf_dict[n_trees[i]].oob_score_\n",
    "else:\n",
    "    # Visulaize result:\n",
    "    plt.plot(n_trees, oob_error_list, 'bo',\n",
    "             n_trees, oob_error_list, 'k')"
   ]
  },
  {
   "cell_type": "code",
   "execution_count": 181,
   "metadata": {},
   "outputs": [
    {
     "data": {
      "image/png": "[encoded data removed]",
      "text/plain": [
       "<Figure size 432x288 with 1 Axes>"
      ]
     },
     "metadata": {
      "needs_background": "light"
     },
     "output_type": "display_data"
    }
   ],
   "source": [
    "# Feature importance plot, modified from: \n",
    "# https://scikit-learn.org/stable/auto_examples/ensemble/plot_forest_importances.html\n",
    "top_num = 7\n",
    "forest = rf_dict[2500]\n",
    "importances = forest.feature_importances_\n",
    "\n",
    "# Sort in decreasing order:\n",
    "indices = np.argsort(importances)[::-1]\n",
    "xvarlist = X.columns[indices]\n",
    "\n",
    "# Plot the feature importances of the forest\n",
    "ax = plt.gca()\n",
    "plt.title(f\"Top {top_num} feature importances\")\n",
    "plt.bar(range(top_num), importances[indices[0:top_num]])\n",
    "plt.xticks(range(top_num))\n",
    "ax.set_xticklabels(xvarlist, rotation = 45, ha='right')\n",
    "ax.set_xlabel(\"NBA Player Statistic\")\n",
    "ax.set_ylabel(\"Feature Importance\")\n",
    "plt.show()\n"
   ]
  },
  {
   "cell_type": "markdown",
   "metadata": {},
   "source": [
    "# Key Findings\n",
    "\n",
    "The last step with analyzing our random forest model was to take a look at the prediction success. When applying our model to our validation set of 59 NBA players, our model accurately predicted the retweet bucket in just under half those cases (~47%). The prediction results are displayed below in the confusion matrix."
   ]
  },
  {
   "cell_type": "code",
   "execution_count": 182,
   "metadata": {},
   "outputs": [
    {
     "data": {
      "text/html": [
       "<div>\n",
       "<style scoped>\n",
       "    .dataframe tbody tr th:only-of-type {\n",
       "        vertical-align: middle;\n",
       "    }\n",
       "\n",
       "    .dataframe tbody tr th {\n",
       "        vertical-align: top;\n",
       "    }\n",
       "\n",
       "    .dataframe thead th {\n",
       "        text-align: right;\n",
       "    }\n",
       "</style>\n",
       "<table border=\"1\" class=\"dataframe\">\n",
       "  <thead>\n",
       "    <tr style=\"text-align: right;\">\n",
       "      <th></th>\n",
       "      <th>&lt;10</th>\n",
       "      <th>10-50</th>\n",
       "      <th>50-150</th>\n",
       "      <th>150+</th>\n",
       "    </tr>\n",
       "  </thead>\n",
       "  <tbody>\n",
       "    <tr>\n",
       "      <th>&lt;10</th>\n",
       "      <td>12</td>\n",
       "      <td>1</td>\n",
       "      <td>2</td>\n",
       "      <td>9</td>\n",
       "    </tr>\n",
       "    <tr>\n",
       "      <th>10-50</th>\n",
       "      <td>1</td>\n",
       "      <td>1</td>\n",
       "      <td>4</td>\n",
       "      <td>0</td>\n",
       "    </tr>\n",
       "    <tr>\n",
       "      <th>50-150</th>\n",
       "      <td>0</td>\n",
       "      <td>3</td>\n",
       "      <td>3</td>\n",
       "      <td>3</td>\n",
       "    </tr>\n",
       "    <tr>\n",
       "      <th>150+</th>\n",
       "      <td>7</td>\n",
       "      <td>0</td>\n",
       "      <td>1</td>\n",
       "      <td>12</td>\n",
       "    </tr>\n",
       "  </tbody>\n",
       "</table>\n",
       "</div>"
      ],
      "text/plain": [
       "        <10  10-50  50-150  150+\n",
       "<10      12      1       2     9\n",
       "10-50     1      1       4     0\n",
       "50-150    0      3       3     3\n",
       "150+      7      0       1    12"
      ]
     },
     "metadata": {},
     "output_type": "display_data"
    }
   ],
   "source": [
    "y_valid = df_valid['TWEET_CAT']\n",
    "X_valid = df_valid[['AGE','WINS_RPM','SALARY_MILLIONS','W', 'ORPM', 'DRPM','PIE']]\n",
    "\n",
    "y_pred_valid = forest.predict(X_valid)\n",
    "\n",
    "conf_mat_valid = confusion_matrix(y_true=y_valid,\n",
    "                        y_pred=y_pred_valid)\n",
    "\n",
    "tweetlabels = [\"<10\", \"10-50\", \"50-150\", \"150+\"]\n",
    "class_names = tweetlabels\n",
    "conf_df = pd.DataFrame(conf_mat_valid, class_names, class_names)\n",
    "display(conf_df)"
   ]
  },
  {
   "cell_type": "code",
   "execution_count": 176,
   "metadata": {},
   "outputs": [
    {
     "data": {
      "text/plain": [
       "0.4745762711864407"
      ]
     },
     "execution_count": 176,
     "metadata": {},
     "output_type": "execute_result"
    }
   ],
   "source": [
    "accuracy_score(y_valid, y_pred_valid)"
   ]
  },
  {
   "cell_type": "markdown",
   "metadata": {},
   "source": [
    "# Use Cases\n",
    "\n",
    "Building a model that can predict an NBA's player's social media presence could be an extremely powerful tool for a brand or sponsorship agency. There could be a lot of untapped value potential in emerging NBA players and being able to identify those players would be critical. The following would be just a few use cases on how to utilize this model's potential.\n",
    "\n",
    "## Targeting Rookies\n",
    "* With all rookies up for grabs after declaring for NBA draft, brands must determine which ones target with somewhat limited of information. \n",
    "* By plugging in the rookie's NCAA statistics, rookie salary, and drafted team a branding agency could predict the social media power of the next great NBA star.\n",
    "\n",
    "## Trades / Free Agency\n",
    "* As one would expect, changing teams can significantly affect a player’s social media presence.\n",
    "* Joining a top tier team could mean performing on a better team that would play more nationally televised games and postseason games. But joining a lower tier team could make the player the focal point of the franchise and also increase value.\n",
    "* Also, joining a team in a bigger markets would obviously lead to increased exposure as well.\n",
    "\n",
    "## New Contracts\n",
    "* Our model indicated that player salary was a top feature in predicting social media power. \n",
    "* Targeting NBA players with a big pay raise in the offseason gives a major indication into the increase in social media value"
   ]
  },
  {
   "cell_type": "markdown",
   "metadata": {},
   "source": [
    "# Future Research\n",
    "\n",
    "## Instagram and Facebook\n",
    "Although Twitter is the most active of the three social media platforms among NBA players, it is mainly a text-driven platform. Instagram and Facebook generate far more visual media (images and videos) and therfore would provide far more opportunities for product placement. For a more complete analysis of the power of social media sponsorships, both Instagrm and Facebook must be included.\n",
    "\n",
    "## Attendance\n",
    "We know that the team plays a major role in a player's marketing power. There are many ways to attempt to quantify a team's impact. One of the most transparent methods would be to incoporate team attendence into the model. Attendence indicates not only how many eyes are at the game but also directly correlates with the size of the TV and social media market.\n",
    "\n",
    "## Season-to-Season Trends\n",
    "This model was weakened by the fact that we are only working with a single season's worth of data. In order to build a more robust model, increasing the size of the dataset would be crucial. Not only would having more data points increase the quality of the model but it would also unable use to examine player trends. If an NBA player's stats seems to be improving year over year then we would assume his social media precense to follow a similar positive trajectory.\n",
    "\n",
    "## Postseason performance\n",
    "Finally, our dataset was limited to regular season statistics. The NBA playoff brings in millions of dollars every season just through broadcasting rights. NBA players who perform in the playoffs and perform well experience vast increases in their exposure. An analysis of the branding value of an NBA player would not be complete without examining their playoff metrics as well.\n"
   ]
  }
 ],
 "metadata": {
  "kernelspec": {
   "display_name": "Python 3",
   "language": "python",
   "name": "python3"
  },
  "language_info": {
   "codemirror_mode": {
    "name": "ipython",
    "version": 3
   },
   "file_extension": ".py",
   "mimetype": "text/x-python",
   "name": "python",
   "nbconvert_exporter": "python",
   "pygments_lexer": "ipython3",
   "version": "3.6.8"
  }
 },
 "nbformat": 4,
 "nbformat_minor": 2
}
